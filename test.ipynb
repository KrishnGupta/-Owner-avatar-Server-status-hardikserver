{
 "cells": [
  {
   "cell_type": "code",
   "execution_count": 12,
   "metadata": {},
   "outputs": [
    {
     "name": "stdout",
     "output_type": "stream",
     "text": [
      "{'timestamp': '2024-06-25T09:23:01+0200', 'server_status': 'running', 'load_averages': '0.01, 0.04, 0.00', 'uptime': {'days': 5, 'hours': '01', 'mins': '32', 'secs': '13'}, 'http_status': 'not running', 'ftp_status': 'not running', 'pop3_status': 'running'}\n"
     ]
    }
   ],
   "source": [
    "import requests\n",
    "response_aapanal = requests.get('https://status.skyserver.net.in/uptime.json')\n",
    "aapanal_data = response_aapanal.json()\n",
    "print(aapanal_data)\n"
   ]
  },
  {
   "cell_type": "code",
   "execution_count": 15,
   "metadata": {},
   "outputs": [
    {
     "name": "stdout",
     "output_type": "stream",
     "text": [
      "5\n"
     ]
    }
   ],
   "source": [
    "uptime= aapanal_data['uptime']['days']\n",
    "print(uptime)"
   ]
  },
  {
   "cell_type": "code",
   "execution_count": null,
   "metadata": {},
   "outputs": [],
   "source": []
  }
 ],
 "metadata": {
  "kernelspec": {
   "display_name": "js_jd_media",
   "language": "python",
   "name": "python3"
  },
  "language_info": {
   "codemirror_mode": {
    "name": "ipython",
    "version": 3
   },
   "file_extension": ".py",
   "mimetype": "text/x-python",
   "name": "python",
   "nbconvert_exporter": "python",
   "pygments_lexer": "ipython3",
   "version": "3.10.0"
  }
 },
 "nbformat": 4,
 "nbformat_minor": 2
}
